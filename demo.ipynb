{
 "cells": [
  {
   "cell_type": "code",
   "execution_count": null,
   "id": "50562c71-c0fc-4b04-b2d7-c5fbccbabca2",
   "metadata": {},
   "outputs": [],
   "source": [
    "import requests\n",
    "from matchms.importing import load_from_msp\n",
    "from matchms import set_matchms_logger_level\n",
    "import pandas as pd\n",
    "from rdkit import Chem\n",
    "\n",
    "set_matchms_logger_level(\"ERROR\")\n",
    "\n",
    "api = 'https://spectus-demo.dyn.cloud.e-infra.cz/predictions'"
   ]
  },
  {
   "cell_type": "code",
   "execution_count": null,
   "id": "1579a33f-7729-4a9e-bc33-c6a2b0756d80",
   "metadata": {},
   "outputs": [],
   "source": [
    "msp_file_path = \"SWGDRUG_100.msp\"\n",
    "msp = load_from_msp(msp_file_path)\n",
    "mz,intensity,smiles = zip(*[ (\n",
    "    list(map(float,s.peaks.mz)),\n",
    "    list(map(float,s.peaks.intensities)),\n",
    "    s.metadata.get('canonical_smiles'))\n",
    "    for s in msp ])\n",
    "len(mz)"
   ]
  },
  {
   "cell_type": "code",
   "execution_count": null,
   "id": "f7767bce-0383-43c3-bb7d-4079043a2870",
   "metadata": {},
   "outputs": [],
   "source": [
    "topk = 20\n",
    "idx = 7\n",
    "\n",
    "response_post = requests.post(api, json={\n",
    "    \"mz\": mz[idx],\n",
    "    \"intensity\": intensity[idx],\n",
    "    \"topk\" : topk,\n",
    "    \"smiles\": \"unknown\"\n",
    "})\n",
    "\n",
    "if response_post.status_code == 202:\n",
    "    print('POST request successful.')\n",
    "    print('Response (POST):', response_post.json())\n",
    "else:\n",
    "    print('POST request failed with status code:', response_post.status_code)\n",
    "\n",
    "created_post_id = response_post.json().get('id') if response_post.status_code == 202 else None"
   ]
  },
  {
   "cell_type": "code",
   "execution_count": null,
   "id": "fcef64f0-38bd-444c-82e5-81d61fc56d95",
   "metadata": {},
   "outputs": [],
   "source": [
    "result = None\n",
    "if created_post_id:\n",
    "    # Send a GET request\n",
    "    resp = requests.get(f\"{api}/{created_post_id}\")\n",
    "\n",
    "    if resp.status_code == 200:\n",
    "        stat = resp.json()['status']\n",
    "        print(stat)\n",
    "        if stat == 'completed':\n",
    "            result = resp.json()['result']\n",
    "    else:\n",
    "        print('HTTP:', resp.status_code)\n",
    "else:\n",
    "    print('No valid post ID was obtained from POST response for GET request.')"
   ]
  },
  {
   "cell_type": "code",
   "execution_count": null,
   "id": "1e876287-13d1-4b08-a80d-d5a95117403b",
   "metadata": {},
   "outputs": [],
   "source": [
    "r = pd.DataFrame(result.items(),columns=['SMILES','confidence'])\\\n",
    "    .sort_values(by='confidence',ascending=False)\\\n",
    "    .reset_index(drop=True)\n",
    "r"
   ]
  },
  {
   "cell_type": "code",
   "execution_count": null,
   "id": "17466c8b-8b06-41f7-829f-f520d83216da",
   "metadata": {},
   "outputs": [],
   "source": [
    "ground_truth = Chem.MolFromSmiles(smiles[idx])\n",
    "ground_truth"
   ]
  },
  {
   "cell_type": "code",
   "execution_count": null,
   "id": "3dd54ebc-b43f-4d45-b0c4-109b87177d19",
   "metadata": {},
   "outputs": [],
   "source": [
    "n = 1\n",
    "Chem.MolFromSmiles(r.loc[n].SMILES)"
   ]
  },
  {
   "cell_type": "code",
   "execution_count": null,
   "id": "2b4e9e26-5b9a-412a-974a-a653bf7b3b1b",
   "metadata": {},
   "outputs": [],
   "source": []
  },
  {
   "cell_type": "code",
   "execution_count": null,
   "id": "8a48d9a2-1f93-4cb4-b6e4-d9fe6e87ebd5",
   "metadata": {},
   "outputs": [],
   "source": []
  }
 ],
 "metadata": {
  "kernelspec": {
   "display_name": "Python 3 (ipykernel)",
   "language": "python",
   "name": "python3"
  },
  "language_info": {
   "codemirror_mode": {
    "name": "ipython",
    "version": 3
   },
   "file_extension": ".py",
   "mimetype": "text/x-python",
   "name": "python",
   "nbconvert_exporter": "python",
   "pygments_lexer": "ipython3",
   "version": "3.12.4"
  }
 },
 "nbformat": 4,
 "nbformat_minor": 5
}
