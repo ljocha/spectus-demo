{
 "cells": [
  {
   "cell_type": "markdown",
   "id": "3f60dc11-7248-46b3-aa39-e89cfb2bfc83",
   "metadata": {},
   "source": [
    "# SpecTUS demo\n",
    "\n",
    "This notebook is a **demonstrator** of the [SpecTUS model](https://doi.org/10.48550/arXiv.2502.05114). Take it as it is, it can show the model capabilities but it is not intended for production use."
   ]
  },
  {
   "cell_type": "code",
   "execution_count": null,
   "id": "7cdbdd2d-9167-49ff-844a-cb7597444857",
   "metadata": {},
   "outputs": [],
   "source": [
    "# just usual required stuff\n",
    "import requests\n",
    "from matchms import Spectrum\n",
    "from matchms.importing import load_from_msp\n",
    "from matchms import set_matchms_logger_level\n",
    "import pandas as pd\n",
    "import numpy as np\n",
    "from rdkit import Chem\n",
    "import matplotlib.pyplot as plt\n",
    "from time import sleep\n",
    "set_matchms_logger_level(\"ERROR\")"
   ]
  },
  {
   "cell_type": "markdown",
   "id": "6f9210b9-d27f-4d9f-8301-ef8d7b45d7dd",
   "metadata": {},
   "source": [
    "## API endpoint\n",
    "\n",
    "The notebook is a client, it requires the service (wrapping the actual model) somewhere.\n",
    "By default, we provide a true demonstrator on a best-effort basis, running at our [Kubernetes cluster](https://docs.cerit.io/en/platform/overview).\n",
    "- The service behind this endopoint is not guaranteed to run at all.\n",
    "- The assigned resources are a fraction of CPU initially, it can grow up to 16 CPUs (only if they are currently available on the cluster).\n",
    "- Requests are processed serially, first come, first served.\n",
    "- There is a limit of 100 requests per day from a single IP address. Results are held for few hours only.\n",
    "- There is no persistence, if the service stops for whatever reason, all previous requests are erased.\n",
    "\n",
    "Having said that, enjoy!"
   ]
  },
  {
   "cell_type": "code",
   "execution_count": null,
   "id": "15f474e4-e416-48cf-b475-e9255be97183",
   "metadata": {},
   "outputs": [],
   "source": [
    "api = 'https://spectus-demo.dyn.cloud.e-infra.cz/predictions'"
   ]
  },
  {
   "cell_type": "markdown",
   "id": "c69b3a10-ea18-41bf-b6b6-126cb89ca9eb",
   "metadata": {},
   "source": [
    "## Example data\n",
    "\n",
    "This file is a random selection of 100 spectra from 1640 entries which remained from [SWGDRUG MS library](https://www.swgdrug.org/ms.htm) after filtering out compounds \n",
    "present in our train set. Therefore these are quaranteed to be true testing data, not seen by the model on training.\n",
    "\n",
    "Pick one by specifying `idx` bellow, or upload whatever you are interested, and read it in. All you need is to provide the list of m/z values in `mz` and corresponding intensities in `intensity`, and reference SMILES in `smiles` eventually."
   ]
  },
  {
   "cell_type": "code",
   "execution_count": null,
   "id": "1579a33f-7729-4a9e-bc33-c6a2b0756d80",
   "metadata": {},
   "outputs": [],
   "source": [
    "msp_file_path = \"SWGDRUG_100.msp\"\n",
    "msp = load_from_msp(msp_file_path)\n",
    "mzs,intensities,smileses = zip(*[ (\n",
    "    list(map(float,s.peaks.mz)),\n",
    "    list(map(float,s.peaks.intensities)),\n",
    "    s.metadata.get('canonical_smiles'))\n",
    "    for s in msp ])\n",
    "print ('# spectra read: ',len(mzs))"
   ]
  },
  {
   "cell_type": "code",
   "execution_count": null,
   "id": "5ea7ab3d-b108-4e96-95c6-ef25f936a364",
   "metadata": {},
   "outputs": [],
   "source": [
    "idx = 7\n",
    "\n",
    "mz = mzs[idx]\n",
    "intensity = intensities[idx]\n",
    "smiles = smileses[idx]"
   ]
  },
  {
   "cell_type": "markdown",
   "id": "e2b31b90-8218-4a8b-9b61-a3b20f0c7b27",
   "metadata": {},
   "source": [
    "## Look at what we have"
   ]
  },
  {
   "cell_type": "code",
   "execution_count": null,
   "id": "e798ae0b-973d-4d11-a893-1d4802c95ab6",
   "metadata": {},
   "outputs": [],
   "source": [
    "print(smiles)\n",
    "Chem.MolFromSmiles(smiles)"
   ]
  },
  {
   "cell_type": "code",
   "execution_count": null,
   "id": "5be94ba1-455e-4ed4-ac57-ed2850f59d78",
   "metadata": {},
   "outputs": [],
   "source": [
    "spec=Spectrum(mz=np.array(mz), intensities=np.array(intensity), metadata={})\n",
    "spec.plot(figsize=(8,3),dpi=120)\n",
    "plt.show()"
   ]
  },
  {
   "cell_type": "markdown",
   "id": "7fd8e9b9-5caa-49b9-bf02-9a16c9edea60",
   "metadata": {},
   "source": [
    "## Submit the request\n",
    "\n",
    "Specify `num_candidates` to be the number of alternatives the model should try to produce. It may not be able to give so many but it will not try more.\n",
    "\n",
    "Be careful, the more you ask, the longer the calculation. \n",
    "Typically, 10 is enough to find the best result we can give.\n"
   ]
  },
  {
   "cell_type": "code",
   "execution_count": null,
   "id": "f7767bce-0383-43c3-bb7d-4079043a2870",
   "metadata": {},
   "outputs": [],
   "source": [
    "num_candidates = 8\n",
    "\n",
    "response_post = requests.post(api, json={\n",
    "    \"mz\": mz,\n",
    "    \"intensity\": intensity,\n",
    "    \"num_candidates\" : num_candidates,\n",
    "#    \"smiles\": \"unknown\"\n",
    "})\n",
    "\n",
    "if response_post.status_code == 202:\n",
    "    print('POST request successful.')\n",
    "    print('Response (POST):', response_post.json())\n",
    "else:\n",
    "    print('POST request failed with status code:', response_post.status_code)\n",
    "\n",
    "created_post_id = response_post.json().get('id') if response_post.status_code == 202 else None"
   ]
  },
  {
   "cell_type": "markdown",
   "id": "e865fe1d-4c18-48e1-a5a1-a38f3fe49cbd",
   "metadata": {},
   "source": [
    "## Monitor progress of the request\n",
    "\n",
    "Initially, it is _queued_, then _running_, and finally either _failed_ or _completed_.\n",
    "\n",
    "Typical calculation time is **10-60 seconds**, depending mostly on the number of alternatives one asks for. So be patient.\n",
    "\n",
    "Proceed further only once you get the status _completed_."
   ]
  },
  {
   "cell_type": "code",
   "execution_count": null,
   "id": "fcef64f0-38bd-444c-82e5-81d61fc56d95",
   "metadata": {},
   "outputs": [],
   "source": [
    "result = None\n",
    "if created_post_id:\n",
    "    while True:\n",
    "        resp = requests.get(f\"{api}/{created_post_id}\")\n",
    "    \n",
    "        if resp.status_code == 200:\n",
    "            stat = resp.json()['status']\n",
    "            print('Request status:', stat)\n",
    "            if stat == 'completed':\n",
    "                result = resp.json()['result']\n",
    "                break\n",
    "            elif stat == 'failed':\n",
    "                break\n",
    "        else:\n",
    "            print('HTTP:', resp.status_code)\n",
    "            break\n",
    "        sleep(5)\n",
    "else:\n",
    "    print('No valid ID, has POST above failed?')"
   ]
  },
  {
   "cell_type": "markdown",
   "id": "b9b7b6b7-31e5-45ac-ac90-88052c24ace8",
   "metadata": {},
   "source": [
    "## Look at the results\n",
    "\n",
    "Parse the response, display it as a table sorted by confidence of the model (though it can be wrong, that's why we ask for more alternatives typically).\n",
    "\n",
    "Then show our reference structure (if it is available) and compare it with the model prediction. Set `n` to choose a row in the table."
   ]
  },
  {
   "cell_type": "code",
   "execution_count": null,
   "id": "1e876287-13d1-4b08-a80d-d5a95117403b",
   "metadata": {},
   "outputs": [],
   "source": [
    "r = pd.DataFrame(result.items(),columns=['SMILES','confidence'])\\\n",
    "    .sort_values(by='confidence',ascending=False)\\\n",
    "    .reset_index(drop=True)\n",
    "r"
   ]
  },
  {
   "cell_type": "code",
   "execution_count": null,
   "id": "17466c8b-8b06-41f7-829f-f520d83216da",
   "metadata": {},
   "outputs": [],
   "source": [
    "# reference structure, if available\n",
    "Chem.MolFromSmiles(smiles)"
   ]
  },
  {
   "cell_type": "code",
   "execution_count": null,
   "id": "3dd54ebc-b43f-4d45-b0c4-109b87177d19",
   "metadata": {},
   "outputs": [],
   "source": [
    "# what the model returned at n-th order\n",
    "n = 0\n",
    "Chem.MolFromSmiles(r.loc[n].SMILES)"
   ]
  },
  {
   "cell_type": "code",
   "execution_count": null,
   "id": "8a48d9a2-1f93-4cb4-b6e4-d9fe6e87ebd5",
   "metadata": {},
   "outputs": [],
   "source": []
  }
 ],
 "metadata": {
  "kernelspec": {
   "display_name": "Python 3 (ipykernel)",
   "language": "python",
   "name": "python3"
  },
  "language_info": {
   "codemirror_mode": {
    "name": "ipython",
    "version": 3
   },
   "file_extension": ".py",
   "mimetype": "text/x-python",
   "name": "python",
   "nbconvert_exporter": "python",
   "pygments_lexer": "ipython3",
   "version": "3.12.4"
  }
 },
 "nbformat": 4,
 "nbformat_minor": 5
}
